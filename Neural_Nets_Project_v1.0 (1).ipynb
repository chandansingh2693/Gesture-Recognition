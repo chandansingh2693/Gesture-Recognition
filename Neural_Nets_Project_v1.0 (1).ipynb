{
 "cells": [
  {
   "cell_type": "markdown",
   "metadata": {},
   "source": [
    "# Gesture Recognition\n",
    "In this group project, you are going to build a 3D Conv model that will be able to predict the 5 gestures correctly. Please import the following libraries to get started."
   ]
  },
  {
   "cell_type": "code",
   "execution_count": 1,
   "metadata": {},
   "outputs": [],
   "source": [
    "import numpy as np\n",
    "import os\n",
    "from scipy.misc import imread, imresize\n",
    "import datetime\n",
    "import os"
   ]
  },
  {
   "cell_type": "markdown",
   "metadata": {},
   "source": [
    "We set the random seed so that the results don't vary drastically."
   ]
  },
  {
   "cell_type": "code",
   "execution_count": 2,
   "metadata": {},
   "outputs": [
    {
     "name": "stderr",
     "output_type": "stream",
     "text": [
      "Using TensorFlow backend.\n"
     ]
    }
   ],
   "source": [
    "np.random.seed(30)\n",
    "import random as rn\n",
    "rn.seed(30)\n",
    "from keras import backend as K\n",
    "import tensorflow as tf\n",
    "tf.set_random_seed(30);\n",
    "tf.keras.backend.clear_session();"
   ]
  },
  {
   "cell_type": "markdown",
   "metadata": {},
   "source": [
    "In this block, you read the folder names for training and validation. You also set the `batch_size` here. Note that you set the batch size in such a way that you are able to use the GPU in full capacity. You keep increasing the batch size until the machine throws an error."
   ]
  },
  {
   "cell_type": "code",
   "execution_count": 3,
   "metadata": {},
   "outputs": [],
   "source": [
    "train_doc = np.random.permutation(open('Project_data/train.csv').readlines())\n",
    "val_doc = np.random.permutation(open('Project_data/val.csv').readlines())\n"
   ]
  },
  {
   "cell_type": "markdown",
   "metadata": {},
   "source": [
    "## Generator\n",
    "This is one of the most important part of the code. The overall structure of the generator has been given. In the generator, you are going to preprocess the images as you have images of 2 different dimensions as well as create a batch of video frames. You have to experiment with `img_idx`, `y`,`z` and normalization such that you get high accuracy."
   ]
  },
  {
   "cell_type": "markdown",
   "metadata": {},
   "source": [
    "Note: During our experiments, we will be building multiple Generators. Here is the vanila one."
   ]
  },
  {
   "cell_type": "code",
   "execution_count": 4,
   "metadata": {},
   "outputs": [],
   "source": [
    "def generator(source_path, folder_list, batch_size):\n",
    "    print( 'Source path = ', source_path, '; batch size =', batch_size)\n",
    "    img_idx = [i for i in range(0,30)]  #create a list of image numbers you want to use for a particular video\n",
    "    while True:\n",
    "        t = np.random.permutation(folder_list)\n",
    "        num_batches = len(t)//batch_size   # calculate the number of batches\n",
    "        for batch in range(num_batches): # we iterate over the number of batches\n",
    "            batch_data = np.zeros((batch_size,len(img_idx),120,120,3)) # x is the number of images you use for each video, (y,z) is the final size of the input images and 3 is the number of channels RGB\n",
    "            batch_labels = np.zeros((batch_size,5)) # batch_labels is the one hot representation of the output\n",
    "            for folder in range(batch_size): # iterate over the batch_size\n",
    "                imgs = os.listdir(source_path+'/'+ t[folder + (batch*batch_size)].split(';')[0]) # read all the images in the folder\n",
    "                for idx,item in enumerate(img_idx): #  Iterate iver the frames/images of a folder to read them in\n",
    "                    image = imread(source_path+'/'+ t[folder + (batch*batch_size)].strip().split(';')[0]+'/'+imgs[item]).astype(np.float32)\n",
    "                    \n",
    "                    #crop the images and resize them. Note that the images are of 2 different shape \n",
    "                    #and the conv3D will throw error if the inputs in a batch have different shapes\n",
    "                    \n",
    "                    #Resizing images\n",
    "                    image = imresize(image,(120,120)) #\n",
    "                    \n",
    "                    image = (image - np.min(image)) / (np.max(image) - np.min(image)) #Normalizing\n",
    "                    \n",
    "                    batch_data[folder,idx,:,:,0] = image[:,:,0] #normalise and feed in the image\n",
    "                    batch_data[folder,idx,:,:,1] = image[:,:,1] #normalise and feed in the image\n",
    "                    batch_data[folder,idx,:,:,2] = image[:,:,2] #normalise and feed in the image\n",
    "                    \n",
    "                batch_labels[folder, int(t[folder + (batch*batch_size)].strip().split(';')[2])] = 1\n",
    "            yield batch_data, batch_labels #you yield the batch_data and the batch_labels, remember what does yield do\n",
    "\n",
    "        \n",
    "        # write the code for the remaining data points which are left after full batches\n",
    "        \n",
    "        batch_size_rem = len(folder_list)%num_batches\n",
    "        \n",
    "        if batch_size_rem!=0:\n",
    "            batch_size = batch_size_rem\n",
    "            batch_data = np.zeros((batch_size,len(img_idx),120,120,3)) # x is the number of images you use for each video, (y,z) is the final size of the input images and 3 is the number of channels RGB\n",
    "            batch_labels = np.zeros((batch_size,5)) # batch_labels is the one hot representation of the output\n",
    "            for folder in range(batch_size): # iterate over the batch_size\n",
    "                imgs = os.listdir(source_path+'/'+ t[folder + (batch*batch_size)].split(';')[0]) # read all the images in the folder\n",
    "                for idx,item in enumerate(img_idx): #  Iterate iver the frames/images of a folder to read them in\n",
    "                    image = imread(source_path+'/'+ t[folder + (batch*batch_size)].strip().split(';')[0]+'/'+imgs[item]).astype(np.float32)\n",
    "                    \n",
    "                    #crop the images and resize them. Note that the images are of 2 different shape \n",
    "                    #and the conv3D will throw error if the inputs in a batch have different shapes\n",
    "                    \n",
    "                    #Resizing images\n",
    "                    image = imresize(image,(120,120))\n",
    "                    \n",
    "                    image = (image - np.min(image)) / (np.max(image) - np.min(image)) #Normalizing\n",
    "                    \n",
    "                    batch_data[folder,idx,:,:,0] = image[:,:,0] #normalise and feed in the image\n",
    "                    batch_data[folder,idx,:,:,1] = image[:,:,1] #normalise and feed in the image\n",
    "                    batch_data[folder,idx,:,:,2] = image[:,:,2] #normalise and feed in the image\n",
    "                    \n",
    "                batch_labels[folder, int(t[folder + (batch*batch_size)].strip().split(';')[2])] = 1\n",
    "            yield batch_data, batch_labels"
   ]
  },
  {
   "cell_type": "markdown",
   "metadata": {},
   "source": [
    "In the above generator we have handled\n",
    "* Normalization\n",
    "* Resizing"
   ]
  },
  {
   "cell_type": "markdown",
   "metadata": {},
   "source": [
    "Note here that a video is represented above in the generator as (number of images, height, width, number of channels). Take this into consideration while creating the model architecture."
   ]
  },
  {
   "cell_type": "code",
   "execution_count": 5,
   "metadata": {},
   "outputs": [
    {
     "name": "stdout",
     "output_type": "stream",
     "text": [
      "# training sequences = 663\n",
      "# validation sequences = 100\n"
     ]
    }
   ],
   "source": [
    "curr_dt_time = datetime.datetime.now()\n",
    "train_path = 'Project_data/train'\n",
    "val_path = 'Project_data/val'\n",
    "num_train_sequences = len(train_doc)\n",
    "print('# training sequences =', num_train_sequences)\n",
    "num_val_sequences = len(val_doc)\n",
    "print('# validation sequences =', num_val_sequences)\n"
   ]
  },
  {
   "cell_type": "markdown",
   "metadata": {},
   "source": [
    "## Model\n",
    "Here you make the model using different functionalities that Keras provides. Remember to use `Conv3D` and `MaxPooling3D` and not `Conv2D` and `Maxpooling2D` for a 3D convolution model. You would want to use `TimeDistributed` while building a Conv2D + RNN model. Also remember that the last layer is the softmax. Design the network in such a way that the model is able to give good accuracy on the least number of parameters so that it can fit in the memory of the webcam."
   ]
  },
  {
   "cell_type": "code",
   "execution_count": 6,
   "metadata": {},
   "outputs": [],
   "source": [
    "from keras.models import Sequential, Model\n",
    "from keras.layers import Dense, GRU, Flatten, TimeDistributed, Flatten, BatchNormalization, Activation, Dropout\n",
    "from keras.layers.convolutional import Conv3D, MaxPooling3D\n",
    "from keras.callbacks import ModelCheckpoint, ReduceLROnPlateau\n",
    "from keras import optimizers\n",
    "\n",
    "#write your model here\n",
    "\n",
    "model = Sequential()\n",
    "\n",
    "# 1st Layer\n",
    "model.add(Conv3D(8, kernel_size=(3,3,3), strides=(1,1,1), activation='relu',padding='same', input_shape=(30,120,120,3)))\n",
    "model.add(BatchNormalization())\n",
    "model.add(MaxPooling3D(pool_size=(2,2,2)))\n",
    "\n",
    "# 2nd Layer\n",
    "model.add(Conv3D(16, kernel_size=(3,3,3), activation='relu', padding='same'))\n",
    "model.add(BatchNormalization())\n",
    "model.add(MaxPooling3D(pool_size=(2,2,2)))\n",
    "\n",
    "# 3nd Layer\n",
    "model.add(Conv3D(32, kernel_size=(3,3,3), activation='relu', padding='same'))\n",
    "model.add(BatchNormalization())\n",
    "model.add(MaxPooling3D(pool_size=(2,2,2)))\n",
    "\n",
    "# 4rd Layer\n",
    "model.add(Conv3D(64, kernel_size=(3,3,3), activation='relu', padding='same'))\n",
    "model.add(Dropout(0.25))\n",
    "model.add(MaxPooling3D(pool_size=(2,2,2)))\n",
    "\n",
    "model.add(Flatten())\n",
    "\n",
    "\n",
    "#model.add(Dense(256, activation='relu'))\n",
    "\n",
    "#model.add(Dropout(0.5))\n",
    "\n",
    "\n",
    "model.add(Dense(128, activation='relu'))\n",
    "\n",
    "model.add(Dropout(0.75))\n",
    "\n",
    "model.add(Dense(5, activation='softmax'));"
   ]
  },
  {
   "cell_type": "markdown",
   "metadata": {},
   "source": [
    "Now that you have written the model, the next step is to `compile` the model. When you print the `summary` of the model, you'll see the total number of parameters you have to train."
   ]
  },
  {
   "cell_type": "code",
   "execution_count": 7,
   "metadata": {},
   "outputs": [
    {
     "name": "stdout",
     "output_type": "stream",
     "text": [
      "_________________________________________________________________\n",
      "Layer (type)                 Output Shape              Param #   \n",
      "=================================================================\n",
      "conv3d_1 (Conv3D)            (None, 30, 120, 120, 8)   656       \n",
      "_________________________________________________________________\n",
      "batch_normalization_1 (Batch (None, 30, 120, 120, 8)   32        \n",
      "_________________________________________________________________\n",
      "max_pooling3d_1 (MaxPooling3 (None, 15, 60, 60, 8)     0         \n",
      "_________________________________________________________________\n",
      "conv3d_2 (Conv3D)            (None, 15, 60, 60, 16)    3472      \n",
      "_________________________________________________________________\n",
      "batch_normalization_2 (Batch (None, 15, 60, 60, 16)    64        \n",
      "_________________________________________________________________\n",
      "max_pooling3d_2 (MaxPooling3 (None, 7, 30, 30, 16)     0         \n",
      "_________________________________________________________________\n",
      "conv3d_3 (Conv3D)            (None, 7, 30, 30, 32)     13856     \n",
      "_________________________________________________________________\n",
      "batch_normalization_3 (Batch (None, 7, 30, 30, 32)     128       \n",
      "_________________________________________________________________\n",
      "max_pooling3d_3 (MaxPooling3 (None, 3, 15, 15, 32)     0         \n",
      "_________________________________________________________________\n",
      "conv3d_4 (Conv3D)            (None, 3, 15, 15, 64)     55360     \n",
      "_________________________________________________________________\n",
      "dropout_1 (Dropout)          (None, 3, 15, 15, 64)     0         \n",
      "_________________________________________________________________\n",
      "max_pooling3d_4 (MaxPooling3 (None, 1, 7, 7, 64)       0         \n",
      "_________________________________________________________________\n",
      "flatten_1 (Flatten)          (None, 3136)              0         \n",
      "_________________________________________________________________\n",
      "dense_1 (Dense)              (None, 128)               401536    \n",
      "_________________________________________________________________\n",
      "dropout_2 (Dropout)          (None, 128)               0         \n",
      "_________________________________________________________________\n",
      "dense_2 (Dense)              (None, 5)                 645       \n",
      "=================================================================\n",
      "Total params: 475,749\n",
      "Trainable params: 475,637\n",
      "Non-trainable params: 112\n",
      "_________________________________________________________________\n",
      "None\n"
     ]
    }
   ],
   "source": [
    "optimiser = 'adadelta' #Tried with 'adam' as well,  but we are getting better results using 'adadelta'.\n",
    "model.compile(optimizer=optimiser, loss='categorical_crossentropy', metrics=['categorical_accuracy'])\n",
    "print (model.summary())"
   ]
  },
  {
   "cell_type": "markdown",
   "metadata": {},
   "source": [
    "Let us create the `train_generator` and the `val_generator` which will be used in `.fit_generator`."
   ]
  },
  {
   "cell_type": "code",
   "execution_count": 10,
   "metadata": {},
   "outputs": [
    {
     "name": "stdout",
     "output_type": "stream",
     "text": [
      "# batch size = 50\n",
      "# epochs = 32\n"
     ]
    }
   ],
   "source": [
    "batch_size = 50 #experiment with the batch size\n",
    "num_epochs = 32 # choose the number of epochs\n",
    "print ('# batch size =', batch_size)\n",
    "print ('# epochs =', num_epochs)"
   ]
  },
  {
   "cell_type": "code",
   "execution_count": 11,
   "metadata": {},
   "outputs": [],
   "source": [
    "train_generator = generator(train_path, train_doc, batch_size)\n",
    "val_generator = generator(val_path, val_doc, batch_size)"
   ]
  },
  {
   "cell_type": "code",
   "execution_count": 12,
   "metadata": {},
   "outputs": [],
   "source": [
    "model_name = 'model_init' + '_' + str(curr_dt_time).replace(' ','').replace(':','_') + '/'\n",
    "    \n",
    "if not os.path.exists(model_name):\n",
    "    os.mkdir(model_name)\n",
    "        \n",
    "filepath = model_name + 'model-{epoch:05d}-{loss:.5f}-{categorical_accuracy:.5f}-{val_loss:.5f}-{val_categorical_accuracy:.5f}.h5'\n",
    "\n",
    "checkpoint = ModelCheckpoint(filepath, monitor='val_loss', verbose=1, save_best_only=True, save_weights_only=False, mode='auto', period=1)\n",
    "\n",
    "LR = ReduceLROnPlateau(monitor='val_loss', factor=0.5, patience=3, cooldown=1, verbose=1)# write the REducelronplateau code here\n",
    "callbacks_list = [checkpoint, LR]"
   ]
  },
  {
   "cell_type": "markdown",
   "metadata": {},
   "source": [
    "The `steps_per_epoch` and `validation_steps` are used by `fit_generator` to decide the number of next() calls it need to make."
   ]
  },
  {
   "cell_type": "code",
   "execution_count": 13,
   "metadata": {},
   "outputs": [],
   "source": [
    "if (num_train_sequences%batch_size) == 0:\n",
    "    steps_per_epoch = int(num_train_sequences/batch_size)\n",
    "else:\n",
    "    steps_per_epoch = (num_train_sequences//batch_size) + 1\n",
    "\n",
    "if (num_val_sequences%batch_size) == 0:\n",
    "    validation_steps = int(num_val_sequences/batch_size)\n",
    "else:\n",
    "    validation_steps = (num_val_sequences//batch_size) + 1"
   ]
  },
  {
   "cell_type": "markdown",
   "metadata": {},
   "source": [
    "Let us now fit the model. This will start training the model and with the help of the checkpoints, you'll be able to save the model at the end of each epoch."
   ]
  },
  {
   "cell_type": "code",
   "execution_count": 14,
   "metadata": {
    "scrolled": true
   },
   "outputs": [
    {
     "name": "stdout",
     "output_type": "stream",
     "text": [
      "Source path =  Project_data/val Source path =  Project_data/train ; batch size = 50\n",
      "Epoch 1/32\n",
      "; batch size = 50\n"
     ]
    },
    {
     "name": "stderr",
     "output_type": "stream",
     "text": [
      "/mnt/disks/user/anaconda3/lib/python3.6/site-packages/ipykernel_launcher.py:13: DeprecationWarning: `imread` is deprecated!\n",
      "`imread` is deprecated in SciPy 1.0.0, and will be removed in 1.2.0.\n",
      "Use ``imageio.imread`` instead.\n",
      "  del sys.path[0]\n",
      "/mnt/disks/user/anaconda3/lib/python3.6/site-packages/ipykernel_launcher.py:19: DeprecationWarning: `imresize` is deprecated!\n",
      "`imresize` is deprecated in SciPy 1.0.0, and will be removed in 1.2.0.\n",
      "Use ``skimage.transform.resize`` instead.\n"
     ]
    },
    {
     "name": "stdout",
     "output_type": "stream",
     "text": [
      "14/14 [==============================] - 249s 18s/step - loss: 2.9625 - categorical_accuracy: 0.2543 - val_loss: 1.4584 - val_categorical_accuracy: 0.2800\n",
      "\n",
      "Epoch 00001: val_loss improved from inf to 1.45838, saving model to model_init_2020-04-1309_18_53.273341/model-00001-2.96247-0.25429-1.45838-0.28000.h5\n",
      "Epoch 2/32\n",
      "14/14 [==============================] - 88s 6s/step - loss: 1.4593 - categorical_accuracy: 0.3729 - val_loss: 1.3468 - val_categorical_accuracy: 0.3500\n",
      "\n",
      "Epoch 00002: val_loss improved from 1.45838 to 1.34683, saving model to model_init_2020-04-1309_18_53.273341/model-00002-1.45932-0.37286-1.34683-0.35000.h5\n",
      "Epoch 3/32\n",
      "14/14 [==============================] - 83s 6s/step - loss: 1.4461 - categorical_accuracy: 0.3657 - val_loss: 1.2182 - val_categorical_accuracy: 0.5800\n",
      "\n",
      "Epoch 00003: val_loss improved from 1.34683 to 1.21817, saving model to model_init_2020-04-1309_18_53.273341/model-00003-1.44615-0.36571-1.21817-0.58000.h5\n",
      "Epoch 4/32\n",
      "14/14 [==============================] - 81s 6s/step - loss: 1.3186 - categorical_accuracy: 0.4729 - val_loss: 1.0462 - val_categorical_accuracy: 0.6900\n",
      "\n",
      "Epoch 00004: val_loss improved from 1.21817 to 1.04623, saving model to model_init_2020-04-1309_18_53.273341/model-00004-1.31861-0.47286-1.04623-0.69000.h5\n",
      "Epoch 5/32\n",
      "14/14 [==============================] - 82s 6s/step - loss: 1.2070 - categorical_accuracy: 0.4829 - val_loss: 1.0197 - val_categorical_accuracy: 0.6400\n",
      "\n",
      "Epoch 00005: val_loss improved from 1.04623 to 1.01975, saving model to model_init_2020-04-1309_18_53.273341/model-00005-1.20696-0.48286-1.01975-0.64000.h5\n",
      "Epoch 6/32\n",
      "14/14 [==============================] - 83s 6s/step - loss: 1.2101 - categorical_accuracy: 0.5186 - val_loss: 0.9720 - val_categorical_accuracy: 0.7200\n",
      "\n",
      "Epoch 00006: val_loss improved from 1.01975 to 0.97199, saving model to model_init_2020-04-1309_18_53.273341/model-00006-1.21012-0.51857-0.97199-0.72000.h5\n",
      "Epoch 7/32\n",
      "14/14 [==============================] - 84s 6s/step - loss: 1.1047 - categorical_accuracy: 0.5457 - val_loss: 0.9636 - val_categorical_accuracy: 0.5700\n",
      "\n",
      "Epoch 00007: val_loss improved from 0.97199 to 0.96363, saving model to model_init_2020-04-1309_18_53.273341/model-00007-1.10473-0.54571-0.96363-0.57000.h5\n",
      "Epoch 8/32\n",
      "14/14 [==============================] - 81s 6s/step - loss: 1.0239 - categorical_accuracy: 0.5471 - val_loss: 0.9783 - val_categorical_accuracy: 0.6400\n",
      "\n",
      "Epoch 00008: val_loss did not improve from 0.96363\n",
      "Epoch 9/32\n",
      "14/14 [==============================] - 84s 6s/step - loss: 0.9765 - categorical_accuracy: 0.6100 - val_loss: 1.1220 - val_categorical_accuracy: 0.5700\n",
      "\n",
      "Epoch 00009: val_loss did not improve from 0.96363\n",
      "Epoch 10/32\n",
      "14/14 [==============================] - 83s 6s/step - loss: 0.9997 - categorical_accuracy: 0.5971 - val_loss: 1.0550 - val_categorical_accuracy: 0.5800\n",
      "\n",
      "Epoch 00010: val_loss did not improve from 0.96363\n",
      "\n",
      "Epoch 00010: ReduceLROnPlateau reducing learning rate to 0.5.\n",
      "Epoch 11/32\n",
      "14/14 [==============================] - 84s 6s/step - loss: 0.7547 - categorical_accuracy: 0.7043 - val_loss: 1.0508 - val_categorical_accuracy: 0.5900\n",
      "\n",
      "Epoch 00011: val_loss did not improve from 0.96363\n",
      "Epoch 12/32\n",
      "14/14 [==============================] - 83s 6s/step - loss: 0.6885 - categorical_accuracy: 0.7186 - val_loss: 0.9496 - val_categorical_accuracy: 0.6600\n",
      "\n",
      "Epoch 00012: val_loss improved from 0.96363 to 0.94957, saving model to model_init_2020-04-1309_18_53.273341/model-00012-0.68853-0.71857-0.94957-0.66000.h5\n",
      "Epoch 13/32\n",
      "14/14 [==============================] - 83s 6s/step - loss: 0.6258 - categorical_accuracy: 0.7457 - val_loss: 1.0298 - val_categorical_accuracy: 0.6300\n",
      "\n",
      "Epoch 00013: val_loss did not improve from 0.94957\n",
      "Epoch 14/32\n",
      "14/14 [==============================] - 84s 6s/step - loss: 0.5811 - categorical_accuracy: 0.7829 - val_loss: 0.9459 - val_categorical_accuracy: 0.6500\n",
      "\n",
      "Epoch 00014: val_loss improved from 0.94957 to 0.94589, saving model to model_init_2020-04-1309_18_53.273341/model-00014-0.58111-0.78286-0.94589-0.65000.h5\n",
      "Epoch 15/32\n",
      "14/14 [==============================] - 83s 6s/step - loss: 0.5799 - categorical_accuracy: 0.7686 - val_loss: 1.0081 - val_categorical_accuracy: 0.6300\n",
      "\n",
      "Epoch 00015: val_loss did not improve from 0.94589\n",
      "Epoch 16/32\n",
      "14/14 [==============================] - 84s 6s/step - loss: 0.4163 - categorical_accuracy: 0.8429 - val_loss: 0.9259 - val_categorical_accuracy: 0.6500\n",
      "\n",
      "Epoch 00016: val_loss improved from 0.94589 to 0.92586, saving model to model_init_2020-04-1309_18_53.273341/model-00016-0.41630-0.84286-0.92586-0.65000.h5\n",
      "Epoch 17/32\n",
      "14/14 [==============================] - 83s 6s/step - loss: 0.4965 - categorical_accuracy: 0.8043 - val_loss: 0.6960 - val_categorical_accuracy: 0.7400\n",
      "\n",
      "Epoch 00017: val_loss improved from 0.92586 to 0.69602, saving model to model_init_2020-04-1309_18_53.273341/model-00017-0.49648-0.80429-0.69602-0.74000.h5\n",
      "Epoch 18/32\n",
      "14/14 [==============================] - 82s 6s/step - loss: 0.4448 - categorical_accuracy: 0.8429 - val_loss: 0.9280 - val_categorical_accuracy: 0.6300\n",
      "\n",
      "Epoch 00018: val_loss did not improve from 0.69602\n",
      "Epoch 19/32\n",
      "14/14 [==============================] - 87s 6s/step - loss: 0.4411 - categorical_accuracy: 0.8300 - val_loss: 0.6635 - val_categorical_accuracy: 0.7400\n",
      "\n",
      "Epoch 00019: val_loss improved from 0.69602 to 0.66353, saving model to model_init_2020-04-1309_18_53.273341/model-00019-0.44108-0.83000-0.66353-0.74000.h5\n",
      "Epoch 20/32\n",
      "14/14 [==============================] - 84s 6s/step - loss: 0.4016 - categorical_accuracy: 0.8529 - val_loss: 0.8962 - val_categorical_accuracy: 0.6700\n",
      "\n",
      "Epoch 00020: val_loss did not improve from 0.66353\n",
      "Epoch 21/32\n",
      "14/14 [==============================] - 85s 6s/step - loss: 0.3726 - categorical_accuracy: 0.8529 - val_loss: 0.9692 - val_categorical_accuracy: 0.6600\n",
      "\n",
      "Epoch 00021: val_loss did not improve from 0.66353\n",
      "Epoch 22/32\n",
      "14/14 [==============================] - 82s 6s/step - loss: 0.3491 - categorical_accuracy: 0.8671 - val_loss: 0.7629 - val_categorical_accuracy: 0.7100\n",
      "\n",
      "Epoch 00022: val_loss did not improve from 0.66353\n",
      "\n",
      "Epoch 00022: ReduceLROnPlateau reducing learning rate to 0.25.\n",
      "Epoch 23/32\n",
      "14/14 [==============================] - 86s 6s/step - loss: 0.3366 - categorical_accuracy: 0.8771 - val_loss: 0.7656 - val_categorical_accuracy: 0.6800\n",
      "\n",
      "Epoch 00023: val_loss did not improve from 0.66353\n",
      "Epoch 24/32\n",
      "14/14 [==============================] - 82s 6s/step - loss: 0.2410 - categorical_accuracy: 0.9186 - val_loss: 0.8073 - val_categorical_accuracy: 0.6800\n",
      "\n",
      "Epoch 00024: val_loss did not improve from 0.66353\n",
      "Epoch 25/32\n",
      "14/14 [==============================] - 85s 6s/step - loss: 0.2366 - categorical_accuracy: 0.9171 - val_loss: 0.8929 - val_categorical_accuracy: 0.6600\n",
      "\n",
      "Epoch 00025: val_loss did not improve from 0.66353\n",
      "\n",
      "Epoch 00025: ReduceLROnPlateau reducing learning rate to 0.125.\n",
      "Epoch 26/32\n",
      "14/14 [==============================] - 84s 6s/step - loss: 0.2155 - categorical_accuracy: 0.9200 - val_loss: 0.7462 - val_categorical_accuracy: 0.7400\n",
      "\n",
      "Epoch 00026: val_loss did not improve from 0.66353\n",
      "Epoch 27/32\n",
      "14/14 [==============================] - 84s 6s/step - loss: 0.2034 - categorical_accuracy: 0.9229 - val_loss: 0.6606 - val_categorical_accuracy: 0.7300\n",
      "\n",
      "Epoch 00027: val_loss improved from 0.66353 to 0.66064, saving model to model_init_2020-04-1309_18_53.273341/model-00027-0.20339-0.92286-0.66064-0.73000.h5\n",
      "Epoch 28/32\n",
      "14/14 [==============================] - 84s 6s/step - loss: 0.2098 - categorical_accuracy: 0.9186 - val_loss: 0.7361 - val_categorical_accuracy: 0.7200\n",
      "\n",
      "Epoch 00028: val_loss did not improve from 0.66064\n",
      "Epoch 29/32\n",
      "14/14 [==============================] - 85s 6s/step - loss: 0.2001 - categorical_accuracy: 0.9186 - val_loss: 0.7389 - val_categorical_accuracy: 0.7300\n",
      "\n",
      "Epoch 00029: val_loss did not improve from 0.66064\n",
      "Epoch 30/32\n",
      "14/14 [==============================] - 82s 6s/step - loss: 0.1865 - categorical_accuracy: 0.9386 - val_loss: 0.6449 - val_categorical_accuracy: 0.7500\n",
      "\n",
      "Epoch 00030: val_loss improved from 0.66064 to 0.64486, saving model to model_init_2020-04-1309_18_53.273341/model-00030-0.18647-0.93857-0.64486-0.75000.h5\n",
      "Epoch 31/32\n",
      "14/14 [==============================] - 84s 6s/step - loss: 0.1679 - categorical_accuracy: 0.9371 - val_loss: 0.5931 - val_categorical_accuracy: 0.7700\n",
      "\n",
      "Epoch 00031: val_loss improved from 0.64486 to 0.59309, saving model to model_init_2020-04-1309_18_53.273341/model-00031-0.16792-0.93714-0.59309-0.77000.h5\n",
      "Epoch 32/32\n",
      "14/14 [==============================] - 85s 6s/step - loss: 0.1910 - categorical_accuracy: 0.9414 - val_loss: 0.5828 - val_categorical_accuracy: 0.8100\n",
      "\n",
      "Epoch 00032: val_loss improved from 0.59309 to 0.58275, saving model to model_init_2020-04-1309_18_53.273341/model-00032-0.19104-0.94143-0.58275-0.81000.h5\n"
     ]
    }
   ],
   "source": [
    "#Fitting model\n",
    "model.fit_generator(train_generator, steps_per_epoch=steps_per_epoch, epochs=num_epochs, verbose=1, \n",
    "                    callbacks=callbacks_list, validation_data=val_generator, \n",
    "                    validation_steps=validation_steps, class_weight=None, workers=1, initial_epoch=0);"
   ]
  },
  {
   "cell_type": "code",
   "execution_count": 16,
   "metadata": {},
   "outputs": [],
   "source": [
    "#Epoch 00032: val_loss improved from 0.59309 to 0.58275, saving model to model_init_2020-04-1309_18_53.273341/model-00032-0.19104-0.94143-0.58275-0.81000.h5"
   ]
  },
  {
   "cell_type": "code",
   "execution_count": 17,
   "metadata": {},
   "outputs": [
    {
     "data": {
      "image/png": "[encoded data removed]",
      "text/plain": [
       "<Figure size 432x288 with 1 Axes>"
      ]
     },
     "metadata": {},
     "output_type": "display_data"
    }
   ],
   "source": [
    "#Visualize the models accuracy\n",
    "import matplotlib.pyplot as plt\n",
    "plt.plot(model.history.history['categorical_accuracy'])\n",
    "plt.plot(model.history.history['val_categorical_accuracy'])\n",
    "plt.title('Model accuracy')\n",
    "plt.ylabel('Accuracy/Loss')\n",
    "plt.xlabel('Epoch')\n",
    "plt.legend(['Train', 'Val','Train Loss','Val Loss'], loc='upper left')\n",
    "plt.show()"
   ]
  },
  {
   "cell_type": "code",
   "execution_count": 18,
   "metadata": {},
   "outputs": [
    {
     "data": {
      "image/png": "[encoded data removed]",
      "text/plain": [
       "<Figure size 432x288 with 1 Axes>"
      ]
     },
     "metadata": {},
     "output_type": "display_data"
    }
   ],
   "source": [
    "#plt.plot(model.history.history['categorical_accuracy'])\n",
    "#plt.plot(model.history.history['val_categorical_accuracy'])\n",
    "plt.plot(model.history.history['loss'])\n",
    "plt.plot(model.history.history['val_loss'])\n",
    "plt.title('Loss')\n",
    "plt.ylabel('Accuracy/Loss')\n",
    "plt.xlabel('Epoch')\n",
    "plt.legend(['Train', 'Val','Train Loss','Val Loss'], loc='upper left')\n",
    "plt.show()"
   ]
  },
  {
   "cell_type": "markdown",
   "metadata": {},
   "source": [
    "We can see at epoch 7-8, we were getting good result."
   ]
  },
  {
   "cell_type": "code",
   "execution_count": null,
   "metadata": {},
   "outputs": [],
   "source": []
  },
  {
   "cell_type": "markdown",
   "metadata": {},
   "source": [
    "Since we are not getting good scores.Modifying the generator.\n",
    "\n",
    "We will make it compatible for flipped and augmented images."
   ]
  },
  {
   "cell_type": "markdown",
   "metadata": {},
   "source": [
    "## GeneratorV2"
   ]
  },
  {
   "cell_type": "code",
   "execution_count": 19,
   "metadata": {},
   "outputs": [],
   "source": [
    "import cv2\n",
    "def get_random_affine():\n",
    "    dx, dy = np.random.randint(-1.7, 1.8, 2)\n",
    "    M = np.float32([[1, 0, dx], [0, 1, dy]])\n",
    "    return M"
   ]
  },
  {
   "cell_type": "code",
   "execution_count": 20,
   "metadata": {},
   "outputs": [],
   "source": [
    "#NEW GENERATOR:\n",
    "def generatorv2(source_path, folder_list, batch_size):\n",
    "    print( 'Source path = ', source_path, '; batch size =', batch_size)\n",
    "    img_idx = [i for i in range(0,30)]  #create a list of image numbers you want to use for a particular video\n",
    "    while True:\n",
    "        t = np.random.permutation(folder_list)\n",
    "        num_batches = len(t)//batch_size   # calculate the number of batches\n",
    "        for batch in range(num_batches): # we iterate over the number of batches\n",
    "            batch_data = np.zeros((batch_size,len(img_idx),120,120,3)) # x is the number of images you use for each video, (y,z) is the final size of the input images and 3 is the number of channels RGB\n",
    "            batch_labels = np.zeros((batch_size,5)) # batch_labels is the one hot representation of the output\n",
    "            \n",
    "            #For augmented images\n",
    "            batch_data_aug = np.zeros((batch_size,len(img_idx),120,120,3)) # x is the number of images you use for each video, (y,z) is the final size of the input images and 3 is the number of channels RGB\n",
    "            batch_labels_aug = np.zeros((batch_size,5))\n",
    "            \n",
    "            #For fliped images\n",
    "            batch_data_flip = np.zeros((batch_size,len(img_idx),120,120,3)) # x is the number of images you use for each video, (y,z) is the final size of the input images and 3 is the number of channels RGB\n",
    "            batch_labels_flip = np.zeros((batch_size,5))\n",
    "            \n",
    "            M = get_random_affine()\n",
    "            \n",
    "            for folder in range(batch_size): # iterate over the batch_size\n",
    "                imgs = os.listdir(source_path+'/'+ t[folder + (batch*batch_size)].split(';')[0]) # read all the images in the folder\n",
    "                for idx,item in enumerate(img_idx): #  Iterate iver the frames/images of a folder to read them in\n",
    "                    image = imread(source_path+'/'+ t[folder + (batch*batch_size)].strip().split(';')[0]+'/'+imgs[item]).astype(np.float32)\n",
    "                    \n",
    "                    #crop the images and resize them. Note that the images are of 2 different shape \n",
    "                    #and the conv3D will throw error if the inputs in a batch have different shapes\n",
    "                    \n",
    "                    #Resizing images\n",
    "                    image = imresize(image,(120,120))\n",
    "                    \n",
    "                    batch_data_aug[folder,idx] = (cv2.warpAffine(image, M, (image.shape[0], image.shape[1])))\n",
    "                    \n",
    "                    image = (image - np.min(image)) / (np.max(image) - np.min(image)) #Normalizing\n",
    "                    \n",
    "                    batch_data[folder,idx,:,:,0] = image[:,:,0] #normalise and feed in the image\n",
    "                    batch_data[folder,idx,:,:,1] = image[:,:,1] #normalise and feed in the image\n",
    "                    batch_data[folder,idx,:,:,2] = image[:,:,2] #normalise and feed in the image\n",
    "                    \n",
    "                    \n",
    "                    \n",
    "                batch_labels[folder, int(t[folder + (batch*batch_size)].strip().split(';')[2])] = 1\n",
    "                batch_labels_aug[folder, int(t[folder + (batch*batch_size)].strip().split(';')[2])] = 1\n",
    "                \n",
    "                \n",
    "                #There is a problem in horizotal pictures. Left->Right and RIght->Left\n",
    "                if int(t[folder + (batch*batch_size)].strip().split(';')[2])==0:\n",
    "                    batch_labels_flip[folder, 1] = 1\n",
    "                elif int(t[folder + (batch*batch_size)].strip().split(';')[2])==1:\n",
    "                    batch_labels_flip[folder, 0] = 1\n",
    "                    \n",
    "                else:\n",
    "                    batch_labels_flip[folder, int(t[folder + (batch*batch_size)].strip().split(';')[2])] = 1\n",
    "                \n",
    "                \n",
    "            yield batch_data, batch_labels #you yield the batch_data and the batch_labels, remember what does yield do\n",
    "\n",
    "        \n",
    "        # write the code for the remaining data points which are left after full batches\n",
    "        \n",
    "        batch_size_rem = len(folder_list)%num_batches\n",
    "        \n",
    "        if batch_size_rem!=0:\n",
    "            batch_size = batch_size_rem\n",
    "            batch_data = np.zeros((batch_size,len(img_idx),120,120,3)) # x is the number of images you use for each video, (y,z) is the final size of the input images and 3 is the number of channels RGB\n",
    "            batch_labels = np.zeros((batch_size,5)) # batch_labels is the one hot representation of the output\n",
    "            \n",
    "            #For augmented images\n",
    "            batch_data_aug = np.zeros((batch_size,len(img_idx),120,120,3)) # x is the number of images you use for each video, (y,z) is the final size of the input images and 3 is the number of channels RGB\n",
    "            batch_labels_aug = np.zeros((batch_size,5))\n",
    "            \n",
    "            #For fliped images\n",
    "            batch_data_flip = np.zeros((batch_size,len(img_idx),120,120,3)) # x is the number of images you use for each video, (y,z) is the final size of the input images and 3 is the number of channels RGB\n",
    "            batch_labels_flip = np.zeros((batch_size,5))\n",
    "            \n",
    "            M = get_random_affine()\n",
    "            \n",
    "            \n",
    "            for folder in range(batch_size): # iterate over the batch_size\n",
    "                imgs = os.listdir(source_path+'/'+ t[folder + (batch*batch_size)].split(';')[0]) # read all the images in the folder\n",
    "                for idx,item in enumerate(img_idx): #  Iterate iver the frames/images of a folder to read them in\n",
    "                    image = imread(source_path+'/'+ t[folder + (batch*batch_size)].strip().split(';')[0]+'/'+imgs[item]).astype(np.float32)\n",
    "                    \n",
    "                    #crop the images and resize them. Note that the images are of 2 different shape \n",
    "                    #and the conv3D will throw error if the inputs in a batch have different shapes\n",
    "                    \n",
    "                    #Resizing images\n",
    "                    image = imresize(image,(120,120))\n",
    "                    \n",
    "                    batch_data_aug[folder,idx] = (cv2.warpAffine(image, M, (image.shape[0], image.shape[1])))\n",
    "                    \n",
    "                    image = (image - np.min(image)) / (np.max(image) - np.min(image)) #Normalizing\n",
    "                    \n",
    "                    batch_data[folder,idx,:,:,0] = image[:,:,0] #normalise and feed in the image\n",
    "                    batch_data[folder,idx,:,:,1] = image[:,:,1] #normalise and feed in the image\n",
    "                    batch_data[folder,idx,:,:,2] = image[:,:,2] #normalise and feed in the image\n",
    "                    \n",
    "                    \n",
    "                    \n",
    "                batch_labels[folder, int(t[folder + (batch*batch_size)].strip().split(';')[2])] = 1\n",
    "                batch_labels_aug[folder, int(t[folder + (batch*batch_size)].strip().split(';')[2])] = 1\n",
    "                \n",
    "                \n",
    "                #There is a problem in horizotal pictures. Left->Right and RIght->Left\n",
    "                if int(t[folder + (batch*batch_size)].strip().split(';')[2])==0:\n",
    "                    batch_labels_flip[folder, 1] = 1\n",
    "                elif int(t[folder + (batch*batch_size)].strip().split(';')[2])==1:\n",
    "                    batch_labels_flip[folder, 0] = 1\n",
    "                    \n",
    "                else:\n",
    "                    batch_labels_flip[folder, int(t[folder + (batch*batch_size)].strip().split(';')[2])] = 1\n",
    "                \n",
    "                \n",
    "            yield batch_data, batch_labels #you yield the batch_data and the batch_labels, remember what does yield do\n",
    "        "
   ]
  },
  {
   "cell_type": "code",
   "execution_count": null,
   "metadata": {},
   "outputs": [],
   "source": []
  },
  {
   "cell_type": "markdown",
   "metadata": {},
   "source": [
    "## Model\n",
    "\n",
    "Here we will try to run same model on the new generator"
   ]
  },
  {
   "cell_type": "code",
   "execution_count": 21,
   "metadata": {},
   "outputs": [],
   "source": [
    "from keras.models import Sequential, Model\n",
    "from keras.layers import Dense, GRU, Flatten, TimeDistributed, Flatten, BatchNormalization, Activation, Dropout\n",
    "from keras.layers.convolutional import Conv3D, MaxPooling3D\n",
    "from keras.callbacks import ModelCheckpoint, ReduceLROnPlateau\n",
    "from keras import optimizers\n",
    "\n",
    "#write your model here\n",
    "\n",
    "model = Sequential()\n",
    "\n",
    "# 1st Layer\n",
    "model.add(Conv3D(8, kernel_size=(3,3,3), strides=(1,1,1), activation='relu',padding='same', input_shape=(30,120,120,3)))\n",
    "model.add(BatchNormalization())\n",
    "model.add(MaxPooling3D(pool_size=(2,2,2)))\n",
    "\n",
    "# 2nd Layer\n",
    "model.add(Conv3D(16, kernel_size=(3,3,3), activation='relu', padding='same'))\n",
    "model.add(BatchNormalization())\n",
    "model.add(MaxPooling3D(pool_size=(2,2,2)))\n",
    "\n",
    "# 3nd Layer\n",
    "model.add(Conv3D(32, kernel_size=(3,3,3), activation='relu', padding='same'))\n",
    "model.add(BatchNormalization())\n",
    "model.add(MaxPooling3D(pool_size=(2,2,2)))\n",
    "\n",
    "# 4rd Layer\n",
    "model.add(Conv3D(64, kernel_size=(3,3,3), activation='relu', padding='same'))\n",
    "model.add(Dropout(0.25))\n",
    "model.add(MaxPooling3D(pool_size=(2,2,2)))\n",
    "\n",
    "model.add(Flatten())\n",
    "\n",
    "\n",
    "#model.add(Dense(256, activation='relu'))\n",
    "\n",
    "#model.add(Dropout(0.5))\n",
    "\n",
    "\n",
    "model.add(Dense(128, activation='relu'))\n",
    "\n",
    "model.add(Dropout(0.75))\n",
    "\n",
    "model.add(Dense(5, activation='softmax'));"
   ]
  },
  {
   "cell_type": "markdown",
   "metadata": {},
   "source": [
    "Now that you have written the model, the next step is to `compile` the model. When you print the `summary` of the model, you'll see the total number of parameters you have to train."
   ]
  },
  {
   "cell_type": "code",
   "execution_count": 22,
   "metadata": {},
   "outputs": [
    {
     "name": "stdout",
     "output_type": "stream",
     "text": [
      "_________________________________________________________________\n",
      "Layer (type)                 Output Shape              Param #   \n",
      "=================================================================\n",
      "conv3d_5 (Conv3D)            (None, 30, 120, 120, 8)   656       \n",
      "_________________________________________________________________\n",
      "batch_normalization_4 (Batch (None, 30, 120, 120, 8)   32        \n",
      "_________________________________________________________________\n",
      "max_pooling3d_5 (MaxPooling3 (None, 15, 60, 60, 8)     0         \n",
      "_________________________________________________________________\n",
      "conv3d_6 (Conv3D)            (None, 15, 60, 60, 16)    3472      \n",
      "_________________________________________________________________\n",
      "batch_normalization_5 (Batch (None, 15, 60, 60, 16)    64        \n",
      "_________________________________________________________________\n",
      "max_pooling3d_6 (MaxPooling3 (None, 7, 30, 30, 16)     0         \n",
      "_________________________________________________________________\n",
      "conv3d_7 (Conv3D)            (None, 7, 30, 30, 32)     13856     \n",
      "_________________________________________________________________\n",
      "batch_normalization_6 (Batch (None, 7, 30, 30, 32)     128       \n",
      "_________________________________________________________________\n",
      "max_pooling3d_7 (MaxPooling3 (None, 3, 15, 15, 32)     0         \n",
      "_________________________________________________________________\n",
      "conv3d_8 (Conv3D)            (None, 3, 15, 15, 64)     55360     \n",
      "_________________________________________________________________\n",
      "dropout_3 (Dropout)          (None, 3, 15, 15, 64)     0         \n",
      "_________________________________________________________________\n",
      "max_pooling3d_8 (MaxPooling3 (None, 1, 7, 7, 64)       0         \n",
      "_________________________________________________________________\n",
      "flatten_2 (Flatten)          (None, 3136)              0         \n",
      "_________________________________________________________________\n",
      "dense_3 (Dense)              (None, 128)               401536    \n",
      "_________________________________________________________________\n",
      "dropout_4 (Dropout)          (None, 128)               0         \n",
      "_________________________________________________________________\n",
      "dense_4 (Dense)              (None, 5)                 645       \n",
      "=================================================================\n",
      "Total params: 475,749\n",
      "Trainable params: 475,637\n",
      "Non-trainable params: 112\n",
      "_________________________________________________________________\n",
      "None\n"
     ]
    }
   ],
   "source": [
    "#learning_rate = 0.1\n",
    "optimiser =  'adadelta' #'adam' #optimizers.Adam(lr=learning_rate)#write your optimizer\n",
    "model.compile(optimizer=optimiser, loss='categorical_crossentropy', metrics=['categorical_accuracy'])\n",
    "print (model.summary())"
   ]
  },
  {
   "cell_type": "markdown",
   "metadata": {},
   "source": [
    "Let us create the `train_generator` and the `val_generator` which will be used in `.fit_generator`."
   ]
  },
  {
   "cell_type": "code",
   "execution_count": 23,
   "metadata": {},
   "outputs": [],
   "source": [
    "batch_size = 50\n",
    "num_epochs = 32"
   ]
  },
  {
   "cell_type": "code",
   "execution_count": 24,
   "metadata": {},
   "outputs": [],
   "source": [
    "train_generator = generatorv2(train_path, train_doc, batch_size)\n",
    "val_generator = generatorv2(val_path, val_doc, batch_size)"
   ]
  },
  {
   "cell_type": "code",
   "execution_count": 25,
   "metadata": {},
   "outputs": [],
   "source": [
    "model_name = 'model_init' + '_' + str(curr_dt_time).replace(' ','').replace(':','_') + '/'\n",
    "    \n",
    "if not os.path.exists(model_name):\n",
    "    os.mkdir(model_name)\n",
    "        \n",
    "filepath = model_name + 'model-{epoch:05d}-{loss:.5f}-{categorical_accuracy:.5f}-{val_loss:.5f}-{val_categorical_accuracy:.5f}.h5'\n",
    "\n",
    "checkpoint = ModelCheckpoint(filepath, monitor='val_loss', verbose=1, save_best_only=True, save_weights_only=False, mode='auto', period=1)\n",
    "\n",
    "LR = ReduceLROnPlateau(monitor='val_loss', factor=0.5, patience=3, cooldown=1, verbose=1)# write the REducelronplateau code here\n",
    "callbacks_list = [checkpoint, LR]"
   ]
  },
  {
   "cell_type": "markdown",
   "metadata": {},
   "source": [
    "The `steps_per_epoch` and `validation_steps` are used by `fit_generator` to decide the number of next() calls it need to make."
   ]
  },
  {
   "cell_type": "code",
   "execution_count": 26,
   "metadata": {},
   "outputs": [],
   "source": [
    "if (num_train_sequences%batch_size) == 0:\n",
    "    steps_per_epoch = int(num_train_sequences/batch_size)\n",
    "else:\n",
    "    steps_per_epoch = (num_train_sequences//batch_size) + 1\n",
    "\n",
    "if (num_val_sequences%batch_size) == 0:\n",
    "    validation_steps = int(num_val_sequences/batch_size)\n",
    "else:\n",
    "    validation_steps = (num_val_sequences//batch_size) + 1"
   ]
  },
  {
   "cell_type": "markdown",
   "metadata": {},
   "source": [
    "Let us now fit the model. This will start training the model and with the help of the checkpoints, you'll be able to save the model at the end of each epoch."
   ]
  },
  {
   "cell_type": "code",
   "execution_count": 27,
   "metadata": {
    "scrolled": true
   },
   "outputs": [
    {
     "name": "stdout",
     "output_type": "stream",
     "text": [
      "Source path =  Project_data/val ; batch size = 50\n",
      "Source path =  Project_data/train ; batch size = 50\n",
      "Epoch 1/32\n"
     ]
    },
    {
     "name": "stderr",
     "output_type": "stream",
     "text": [
      "/mnt/disks/user/anaconda3/lib/python3.6/site-packages/ipykernel_launcher.py:25: DeprecationWarning: `imread` is deprecated!\n",
      "`imread` is deprecated in SciPy 1.0.0, and will be removed in 1.2.0.\n",
      "Use ``imageio.imread`` instead.\n",
      "/mnt/disks/user/anaconda3/lib/python3.6/site-packages/ipykernel_launcher.py:31: DeprecationWarning: `imresize` is deprecated!\n",
      "`imresize` is deprecated in SciPy 1.0.0, and will be removed in 1.2.0.\n",
      "Use ``skimage.transform.resize`` instead.\n"
     ]
    },
    {
     "name": "stdout",
     "output_type": "stream",
     "text": [
      "14/14 [==============================] - 105s 7s/step - loss: 2.7115 - categorical_accuracy: 0.2357 - val_loss: 1.4399 - val_categorical_accuracy: 0.4500\n",
      "\n",
      "Epoch 00001: val_loss improved from inf to 1.43993, saving model to model_init_2020-04-1309_18_53.273341/model-00001-2.71145-0.23571-1.43993-0.45000.h5\n",
      "Epoch 2/32\n",
      "14/14 [==============================] - 90s 6s/step - loss: 1.4887 - categorical_accuracy: 0.3286 - val_loss: 1.2639 - val_categorical_accuracy: 0.4200\n",
      "\n",
      "Epoch 00002: val_loss improved from 1.43993 to 1.26394, saving model to model_init_2020-04-1309_18_53.273341/model-00002-1.48873-0.32857-1.26394-0.42000.h5\n",
      "Epoch 3/32\n",
      "14/14 [==============================] - 89s 6s/step - loss: 1.3829 - categorical_accuracy: 0.3800 - val_loss: 1.3535 - val_categorical_accuracy: 0.5000\n",
      "\n",
      "Epoch 00003: val_loss did not improve from 1.26394\n",
      "Epoch 4/32\n",
      "14/14 [==============================] - 91s 6s/step - loss: 1.4397 - categorical_accuracy: 0.3486 - val_loss: 1.2222 - val_categorical_accuracy: 0.4800\n",
      "\n",
      "Epoch 00004: val_loss improved from 1.26394 to 1.22224, saving model to model_init_2020-04-1309_18_53.273341/model-00004-1.43973-0.34857-1.22224-0.48000.h5\n",
      "Epoch 5/32\n",
      "14/14 [==============================] - 89s 6s/step - loss: 1.3461 - categorical_accuracy: 0.3786 - val_loss: 1.1904 - val_categorical_accuracy: 0.5000\n",
      "\n",
      "Epoch 00005: val_loss improved from 1.22224 to 1.19037, saving model to model_init_2020-04-1309_18_53.273341/model-00005-1.34610-0.37857-1.19037-0.50000.h5\n",
      "Epoch 6/32\n",
      "14/14 [==============================] - 90s 6s/step - loss: 1.2499 - categorical_accuracy: 0.4386 - val_loss: 1.1068 - val_categorical_accuracy: 0.5900\n",
      "\n",
      "Epoch 00006: val_loss improved from 1.19037 to 1.10680, saving model to model_init_2020-04-1309_18_53.273341/model-00006-1.24986-0.43857-1.10680-0.59000.h5\n",
      "Epoch 7/32\n",
      "14/14 [==============================] - 90s 6s/step - loss: 1.3176 - categorical_accuracy: 0.4314 - val_loss: 1.1281 - val_categorical_accuracy: 0.5900\n",
      "\n",
      "Epoch 00007: val_loss did not improve from 1.10680\n",
      "Epoch 8/32\n",
      "14/14 [==============================] - 91s 7s/step - loss: 1.1322 - categorical_accuracy: 0.5029 - val_loss: 1.1409 - val_categorical_accuracy: 0.4900\n",
      "\n",
      "Epoch 00008: val_loss did not improve from 1.10680\n",
      "Epoch 9/32\n",
      "14/14 [==============================] - 90s 6s/step - loss: 1.0646 - categorical_accuracy: 0.5443 - val_loss: 1.0145 - val_categorical_accuracy: 0.5800\n",
      "\n",
      "Epoch 00009: val_loss improved from 1.10680 to 1.01447, saving model to model_init_2020-04-1309_18_53.273341/model-00009-1.06462-0.54429-1.01447-0.58000.h5\n",
      "Epoch 10/32\n",
      "14/14 [==============================] - 89s 6s/step - loss: 1.0518 - categorical_accuracy: 0.5614 - val_loss: 0.8493 - val_categorical_accuracy: 0.6800\n",
      "\n",
      "Epoch 00010: val_loss improved from 1.01447 to 0.84929, saving model to model_init_2020-04-1309_18_53.273341/model-00010-1.05181-0.56143-0.84929-0.68000.h5\n",
      "Epoch 11/32\n",
      "14/14 [==============================] - 90s 6s/step - loss: 1.0088 - categorical_accuracy: 0.5614 - val_loss: 0.9841 - val_categorical_accuracy: 0.6400\n",
      "\n",
      "Epoch 00011: val_loss did not improve from 0.84929\n",
      "Epoch 12/32\n",
      "14/14 [==============================] - 92s 7s/step - loss: 0.9354 - categorical_accuracy: 0.6071 - val_loss: 0.8918 - val_categorical_accuracy: 0.5800\n",
      "\n",
      "Epoch 00012: val_loss did not improve from 0.84929\n",
      "Epoch 13/32\n",
      "14/14 [==============================] - 91s 6s/step - loss: 0.9884 - categorical_accuracy: 0.5757 - val_loss: 0.7113 - val_categorical_accuracy: 0.7300\n",
      "\n",
      "Epoch 00013: val_loss improved from 0.84929 to 0.71126, saving model to model_init_2020-04-1309_18_53.273341/model-00013-0.98844-0.57571-0.71126-0.73000.h5\n",
      "Epoch 14/32\n",
      "14/14 [==============================] - 91s 7s/step - loss: 0.8281 - categorical_accuracy: 0.6514 - val_loss: 0.8113 - val_categorical_accuracy: 0.7100\n",
      "\n",
      "Epoch 00014: val_loss did not improve from 0.71126\n",
      "Epoch 15/32\n",
      "14/14 [==============================] - 88s 6s/step - loss: 0.8281 - categorical_accuracy: 0.6643 - val_loss: 0.6990 - val_categorical_accuracy: 0.7100\n",
      "\n",
      "Epoch 00015: val_loss improved from 0.71126 to 0.69903, saving model to model_init_2020-04-1309_18_53.273341/model-00015-0.82806-0.66429-0.69903-0.71000.h5\n",
      "Epoch 16/32\n",
      "14/14 [==============================] - 89s 6s/step - loss: 0.7227 - categorical_accuracy: 0.7057 - val_loss: 0.6816 - val_categorical_accuracy: 0.8000\n",
      "\n",
      "Epoch 00016: val_loss improved from 0.69903 to 0.68160, saving model to model_init_2020-04-1309_18_53.273341/model-00016-0.72271-0.70571-0.68160-0.80000.h5\n",
      "Epoch 17/32\n",
      "14/14 [==============================] - 89s 6s/step - loss: 0.6620 - categorical_accuracy: 0.7386 - val_loss: 0.7957 - val_categorical_accuracy: 0.6700\n",
      "\n",
      "Epoch 00017: val_loss did not improve from 0.68160\n",
      "Epoch 18/32\n",
      "14/14 [==============================] - 90s 6s/step - loss: 0.7078 - categorical_accuracy: 0.7457 - val_loss: 0.9144 - val_categorical_accuracy: 0.6800\n",
      "\n",
      "Epoch 00018: val_loss did not improve from 0.68160\n",
      "Epoch 19/32\n",
      "14/14 [==============================] - 91s 6s/step - loss: 0.6005 - categorical_accuracy: 0.7871 - val_loss: 1.2344 - val_categorical_accuracy: 0.6300\n",
      "\n",
      "Epoch 00019: val_loss did not improve from 0.68160\n",
      "\n",
      "Epoch 00019: ReduceLROnPlateau reducing learning rate to 0.5.\n",
      "Epoch 20/32\n",
      "14/14 [==============================] - 88s 6s/step - loss: 0.5227 - categorical_accuracy: 0.7957 - val_loss: 0.9143 - val_categorical_accuracy: 0.7100\n",
      "\n",
      "Epoch 00020: val_loss did not improve from 0.68160\n",
      "Epoch 21/32\n",
      "14/14 [==============================] - 91s 7s/step - loss: 0.4547 - categorical_accuracy: 0.8143 - val_loss: 1.2898 - val_categorical_accuracy: 0.6200\n",
      "\n",
      "Epoch 00021: val_loss did not improve from 0.68160\n",
      "Epoch 22/32\n",
      "14/14 [==============================] - 89s 6s/step - loss: 0.3713 - categorical_accuracy: 0.8586 - val_loss: 0.6258 - val_categorical_accuracy: 0.7600\n",
      "\n",
      "Epoch 00022: val_loss improved from 0.68160 to 0.62582, saving model to model_init_2020-04-1309_18_53.273341/model-00022-0.37128-0.85857-0.62582-0.76000.h5\n",
      "Epoch 23/32\n",
      "14/14 [==============================] - 90s 6s/step - loss: 0.4033 - categorical_accuracy: 0.8457 - val_loss: 0.5827 - val_categorical_accuracy: 0.7700\n",
      "\n",
      "Epoch 00023: val_loss improved from 0.62582 to 0.58270, saving model to model_init_2020-04-1309_18_53.273341/model-00023-0.40330-0.84571-0.58270-0.77000.h5\n",
      "Epoch 24/32\n",
      "14/14 [==============================] - 88s 6s/step - loss: 0.2890 - categorical_accuracy: 0.8929 - val_loss: 0.4149 - val_categorical_accuracy: 0.8400\n",
      "\n",
      "Epoch 00024: val_loss improved from 0.58270 to 0.41486, saving model to model_init_2020-04-1309_18_53.273341/model-00024-0.28896-0.89286-0.41486-0.84000.h5\n",
      "Epoch 25/32\n",
      "14/14 [==============================] - 91s 6s/step - loss: 0.2717 - categorical_accuracy: 0.8957 - val_loss: 0.4526 - val_categorical_accuracy: 0.8200\n",
      "\n",
      "Epoch 00025: val_loss did not improve from 0.41486\n",
      "Epoch 26/32\n",
      "14/14 [==============================] - 91s 7s/step - loss: 0.3253 - categorical_accuracy: 0.8757 - val_loss: 0.5487 - val_categorical_accuracy: 0.8000\n",
      "\n",
      "Epoch 00026: val_loss did not improve from 0.41486\n",
      "Epoch 27/32\n",
      "14/14 [==============================] - 90s 6s/step - loss: 0.2486 - categorical_accuracy: 0.9000 - val_loss: 0.3942 - val_categorical_accuracy: 0.8700\n",
      "\n",
      "Epoch 00027: val_loss improved from 0.41486 to 0.39416, saving model to model_init_2020-04-1309_18_53.273341/model-00027-0.24859-0.90000-0.39416-0.87000.h5\n",
      "Epoch 28/32\n",
      "14/14 [==============================] - 91s 7s/step - loss: 0.2773 - categorical_accuracy: 0.8900 - val_loss: 0.5077 - val_categorical_accuracy: 0.8300\n",
      "\n",
      "Epoch 00028: val_loss did not improve from 0.39416\n",
      "Epoch 29/32\n",
      "14/14 [==============================] - 92s 7s/step - loss: 0.2913 - categorical_accuracy: 0.8943 - val_loss: 0.5635 - val_categorical_accuracy: 0.7700\n",
      "\n",
      "Epoch 00029: val_loss did not improve from 0.39416\n",
      "Epoch 30/32\n",
      "14/14 [==============================] - 91s 6s/step - loss: 0.2469 - categorical_accuracy: 0.9057 - val_loss: 0.5615 - val_categorical_accuracy: 0.7700\n",
      "\n",
      "Epoch 00030: val_loss did not improve from 0.39416\n",
      "\n",
      "Epoch 00030: ReduceLROnPlateau reducing learning rate to 0.25.\n",
      "Epoch 31/32\n",
      "14/14 [==============================] - 91s 6s/step - loss: 0.2145 - categorical_accuracy: 0.9171 - val_loss: 0.7232 - val_categorical_accuracy: 0.7300\n"
     ]
    },
    {
     "name": "stdout",
     "output_type": "stream",
     "text": [
      "\n",
      "Epoch 00031: val_loss did not improve from 0.39416\n",
      "Epoch 32/32\n",
      "14/14 [==============================] - 90s 6s/step - loss: 0.1950 - categorical_accuracy: 0.9129 - val_loss: 0.3961 - val_categorical_accuracy: 0.8600\n",
      "\n",
      "Epoch 00032: val_loss did not improve from 0.39416\n"
     ]
    }
   ],
   "source": [
    "#Fitting model\n",
    "model.fit_generator(train_generator, steps_per_epoch=steps_per_epoch, epochs=num_epochs, verbose=1, \n",
    "                    callbacks=callbacks_list, validation_data=val_generator, \n",
    "                    validation_steps=validation_steps, class_weight=None, workers=1, initial_epoch=0);"
   ]
  },
  {
   "cell_type": "code",
   "execution_count": 28,
   "metadata": {},
   "outputs": [
    {
     "data": {
      "image/png": "[encoded data removed]",
      "text/plain": [
       "<Figure size 432x288 with 1 Axes>"
      ]
     },
     "metadata": {},
     "output_type": "display_data"
    }
   ],
   "source": [
    "import matplotlib.pyplot as plt\n",
    "plt.plot(model.history.history['categorical_accuracy'])\n",
    "plt.plot(model.history.history['val_categorical_accuracy'])\n",
    "plt.title('Model accuracy')\n",
    "plt.ylabel('Accuracy/Loss')\n",
    "plt.xlabel('Epoch')\n",
    "plt.legend(['Train', 'Val','Train Loss','Val Loss'], loc='upper left')\n",
    "plt.show()"
   ]
  },
  {
   "cell_type": "code",
   "execution_count": 30,
   "metadata": {},
   "outputs": [
    {
     "data": {
      "image/png": "[encoded data removed]",
      "text/plain": [
       "<Figure size 432x288 with 1 Axes>"
      ]
     },
     "metadata": {},
     "output_type": "display_data"
    }
   ],
   "source": [
    "plt.plot(model.history.history['loss'])\n",
    "plt.plot(model.history.history['val_loss'])\n",
    "plt.title('Loss')\n",
    "plt.ylabel('Accuracy/Loss')\n",
    "plt.xlabel('Epoch')\n",
    "plt.legend(['Train Loss','Val Loss'], loc='upper left')\n",
    "plt.show()"
   ]
  },
  {
   "cell_type": "markdown",
   "metadata": {},
   "source": [
    "We can see, using the new generator, we got slighlt better result. So going forward, we will use this generator."
   ]
  },
  {
   "cell_type": "markdown",
   "metadata": {},
   "source": [
    "Till now we have seen, how we can work on image sequence using Conv3D CNN.\n",
    "\n",
    "We know that RNN works good for sequential data and this time we will use Transfer Learning using Mobilenet."
   ]
  },
  {
   "cell_type": "markdown",
   "metadata": {},
   "source": [
    "## Transfer Learning  (CNN+ RNN)"
   ]
  },
  {
   "cell_type": "code",
   "execution_count": 32,
   "metadata": {},
   "outputs": [
    {
     "name": "stderr",
     "output_type": "stream",
     "text": [
      "/mnt/disks/user/anaconda3/lib/python3.6/site-packages/keras_applications/mobilenet.py:206: UserWarning: MobileNet shape is undefined. Weights for input shape (224, 224) will be loaded.\n",
      "  warnings.warn('MobileNet shape is undefined.'\n"
     ]
    }
   ],
   "source": [
    "from keras.models import Sequential, Model\n",
    "from keras.layers import Dense, GRU, Flatten, TimeDistributed, Flatten, BatchNormalization, Activation, Dropout\n",
    "from keras.layers.convolutional import Conv3D, MaxPooling3D,Conv2D,MaxPooling2D\n",
    "from keras.callbacks import ModelCheckpoint, ReduceLROnPlateau\n",
    "from keras import optimizers\n",
    "from keras.applications import ResNet50,mobilenet\n",
    "from keras.applications.resnet50 import preprocess_input\n",
    "from keras.layers.recurrent import LSTM, GRU\n",
    "\n",
    "mobilenet_transfer = mobilenet.MobileNet(weights='imagenet', include_top=False)\n",
    "\n",
    "model_mobile_net_gru = Sequential()\n",
    "model_mobile_net_gru.add(TimeDistributed(mobilenet_transfer,input_shape=(30,120,120,3)))\n",
    "        \n",
    "        \n",
    "for layer in model_mobile_net_gru.layers:\n",
    "    layer.trainable = True    \n",
    "        \n",
    "#model_mobile_net_gru.add(TimeDistributed(Conv2D(8, (3, 3), strides=(2, 2),activation='relu', padding='same'))       \n",
    "model_mobile_net_gru.add(TimeDistributed(BatchNormalization()))\n",
    "model_mobile_net_gru.add(TimeDistributed(MaxPooling2D((2, 2))))\n",
    "model_mobile_net_gru.add(TimeDistributed(Flatten()))\n",
    "\n",
    "model_mobile_net_gru.add(GRU(256))\n",
    "model_mobile_net_gru.add(Dropout(0.25))\n",
    "        \n",
    "model_mobile_net_gru.add(Dense(128,activation='relu'))\n",
    "model_mobile_net_gru.add(Dropout(0.5))\n",
    "        \n",
    "model_mobile_net_gru.add(Dense(5, activation='softmax'))\n",
    "\n",
    "optimiser = 'adadelta'\n",
    "model_mobile_net_gru.compile(optimizer=optimiser, loss='categorical_crossentropy', metrics=['categorical_accuracy']);"
   ]
  },
  {
   "cell_type": "code",
   "execution_count": 33,
   "metadata": {},
   "outputs": [
    {
     "name": "stdout",
     "output_type": "stream",
     "text": [
      "_________________________________________________________________\n",
      "Layer (type)                 Output Shape              Param #   \n",
      "=================================================================\n",
      "time_distributed_5 (TimeDist (None, 30, 3, 3, 1024)    3228864   \n",
      "_________________________________________________________________\n",
      "time_distributed_6 (TimeDist (None, 30, 3, 3, 1024)    4096      \n",
      "_________________________________________________________________\n",
      "time_distributed_7 (TimeDist (None, 30, 1, 1, 1024)    0         \n",
      "_________________________________________________________________\n",
      "time_distributed_8 (TimeDist (None, 30, 1024)          0         \n",
      "_________________________________________________________________\n",
      "gru_2 (GRU)                  (None, 256)               983808    \n",
      "_________________________________________________________________\n",
      "dropout_7 (Dropout)          (None, 256)               0         \n",
      "_________________________________________________________________\n",
      "dense_7 (Dense)              (None, 128)               32896     \n",
      "_________________________________________________________________\n",
      "dropout_8 (Dropout)          (None, 128)               0         \n",
      "_________________________________________________________________\n",
      "dense_8 (Dense)              (None, 5)                 645       \n",
      "=================================================================\n",
      "Total params: 4,250,309\n",
      "Trainable params: 4,226,373\n",
      "Non-trainable params: 23,936\n",
      "_________________________________________________________________\n"
     ]
    }
   ],
   "source": [
    "model_mobile_net_gru.summary()"
   ]
  },
  {
   "cell_type": "code",
   "execution_count": 34,
   "metadata": {},
   "outputs": [
    {
     "name": "stdout",
     "output_type": "stream",
     "text": [
      "Source path =  Project_data/val ; batch size = 10\n",
      "Source path =  Project_data/train ; batch size = 10\n",
      "Epoch 1/20\n"
     ]
    },
    {
     "name": "stderr",
     "output_type": "stream",
     "text": [
      "/mnt/disks/user/anaconda3/lib/python3.6/site-packages/ipykernel_launcher.py:25: DeprecationWarning: `imread` is deprecated!\n",
      "`imread` is deprecated in SciPy 1.0.0, and will be removed in 1.2.0.\n",
      "Use ``imageio.imread`` instead.\n",
      "/mnt/disks/user/anaconda3/lib/python3.6/site-packages/ipykernel_launcher.py:31: DeprecationWarning: `imresize` is deprecated!\n",
      "`imresize` is deprecated in SciPy 1.0.0, and will be removed in 1.2.0.\n",
      "Use ``skimage.transform.resize`` instead.\n"
     ]
    },
    {
     "name": "stdout",
     "output_type": "stream",
     "text": [
      "64/67 [===========================>..] - ETA: 4s - loss: 1.2324 - categorical_accuracy: 0.5375"
     ]
    },
    {
     "name": "stderr",
     "output_type": "stream",
     "text": [
      "/mnt/disks/user/anaconda3/lib/python3.6/site-packages/ipykernel_launcher.py:83: DeprecationWarning: `imread` is deprecated!\n",
      "`imread` is deprecated in SciPy 1.0.0, and will be removed in 1.2.0.\n",
      "Use ``imageio.imread`` instead.\n",
      "/mnt/disks/user/anaconda3/lib/python3.6/site-packages/ipykernel_launcher.py:89: DeprecationWarning: `imresize` is deprecated!\n",
      "`imresize` is deprecated in SciPy 1.0.0, and will be removed in 1.2.0.\n",
      "Use ``skimage.transform.resize`` instead.\n"
     ]
    },
    {
     "name": "stdout",
     "output_type": "stream",
     "text": [
      "67/67 [==============================] - 98s 1s/step - loss: 1.2303 - categorical_accuracy: 0.5329 - val_loss: 0.8419 - val_categorical_accuracy: 0.6700\n",
      "\n",
      "Epoch 00001: val_loss improved from inf to 0.84187, saving model to model_init_2020-04-1309_18_53.273341/model-00001-1.22135-0.53846-0.84187-0.67000.h5\n",
      "Epoch 2/20\n",
      "67/67 [==============================] - 31s 457ms/step - loss: 1.2918 - categorical_accuracy: 0.5124 - val_loss: 1.2705 - val_categorical_accuracy: 0.5400\n",
      "\n",
      "Epoch 00002: val_loss did not improve from 0.84187\n",
      "Epoch 3/20\n",
      "67/67 [==============================] - 33s 486ms/step - loss: 1.1205 - categorical_accuracy: 0.5821 - val_loss: 0.6097 - val_categorical_accuracy: 0.7800\n",
      "\n",
      "Epoch 00003: val_loss improved from 0.84187 to 0.60974, saving model to model_init_2020-04-1309_18_53.273341/model-00003-1.12047-0.58209-0.60974-0.78000.h5\n",
      "Epoch 4/20\n",
      "67/67 [==============================] - 33s 496ms/step - loss: 0.8894 - categorical_accuracy: 0.6617 - val_loss: 0.9369 - val_categorical_accuracy: 0.6300\n",
      "\n",
      "Epoch 00004: val_loss did not improve from 0.60974\n",
      "Epoch 5/20\n",
      "67/67 [==============================] - 32s 482ms/step - loss: 0.9286 - categorical_accuracy: 0.6667 - val_loss: 0.7671 - val_categorical_accuracy: 0.7300\n",
      "\n",
      "Epoch 00005: val_loss did not improve from 0.60974\n",
      "Epoch 6/20\n",
      "67/67 [==============================] - 33s 490ms/step - loss: 0.7434 - categorical_accuracy: 0.5970 - val_loss: 0.4865 - val_categorical_accuracy: 0.7600\n",
      "\n",
      "Epoch 00006: val_loss improved from 0.60974 to 0.48646, saving model to model_init_2020-04-1309_18_53.273341/model-00006-0.74343-0.59701-0.48646-0.76000.h5\n",
      "Epoch 7/20\n",
      "67/67 [==============================] - 31s 466ms/step - loss: 0.6867 - categorical_accuracy: 0.7463 - val_loss: 0.3752 - val_categorical_accuracy: 0.8400\n",
      "\n",
      "Epoch 00007: val_loss improved from 0.48646 to 0.37518, saving model to model_init_2020-04-1309_18_53.273341/model-00007-0.68666-0.74627-0.37518-0.84000.h5\n",
      "Epoch 8/20\n",
      "67/67 [==============================] - 32s 483ms/step - loss: 0.6063 - categorical_accuracy: 0.7413 - val_loss: 0.4624 - val_categorical_accuracy: 0.8000\n",
      "\n",
      "Epoch 00008: val_loss did not improve from 0.37518\n",
      "Epoch 9/20\n",
      "67/67 [==============================] - 32s 484ms/step - loss: 0.6559 - categorical_accuracy: 0.7214 - val_loss: 1.0387 - val_categorical_accuracy: 0.7200\n",
      "\n",
      "Epoch 00009: val_loss did not improve from 0.37518\n",
      "Epoch 10/20\n",
      "67/67 [==============================] - 33s 495ms/step - loss: 0.7514 - categorical_accuracy: 0.7015 - val_loss: 0.4964 - val_categorical_accuracy: 0.8100\n",
      "\n",
      "Epoch 00010: val_loss did not improve from 0.37518\n",
      "\n",
      "Epoch 00010: ReduceLROnPlateau reducing learning rate to 0.5.\n",
      "Epoch 11/20\n",
      "67/67 [==============================] - 32s 478ms/step - loss: 0.4682 - categorical_accuracy: 0.8259 - val_loss: 0.4155 - val_categorical_accuracy: 0.8600\n",
      "\n",
      "Epoch 00011: val_loss did not improve from 0.37518\n",
      "Epoch 12/20\n",
      "67/67 [==============================] - 33s 497ms/step - loss: 0.5165 - categorical_accuracy: 0.8010 - val_loss: 0.4343 - val_categorical_accuracy: 0.8300\n",
      "\n",
      "Epoch 00012: val_loss did not improve from 0.37518\n",
      "Epoch 13/20\n",
      "67/67 [==============================] - 31s 467ms/step - loss: 0.2563 - categorical_accuracy: 0.9055 - val_loss: 0.5024 - val_categorical_accuracy: 0.8400\n",
      "\n",
      "Epoch 00013: val_loss did not improve from 0.37518\n",
      "\n",
      "Epoch 00013: ReduceLROnPlateau reducing learning rate to 0.25.\n",
      "Epoch 14/20\n",
      "67/67 [==============================] - 33s 490ms/step - loss: 0.3856 - categorical_accuracy: 0.8706 - val_loss: 0.2809 - val_categorical_accuracy: 0.8800\n",
      "\n",
      "Epoch 00014: val_loss improved from 0.37518 to 0.28087, saving model to model_init_2020-04-1309_18_53.273341/model-00014-0.38555-0.87065-0.28087-0.88000.h5\n",
      "Epoch 15/20\n",
      "67/67 [==============================] - 32s 479ms/step - loss: 0.2634 - categorical_accuracy: 0.9104 - val_loss: 0.2202 - val_categorical_accuracy: 0.9100\n",
      "\n",
      "Epoch 00015: val_loss improved from 0.28087 to 0.22025, saving model to model_init_2020-04-1309_18_53.273341/model-00015-0.26339-0.91045-0.22025-0.91000.h5\n",
      "Epoch 16/20\n",
      "67/67 [==============================] - 33s 493ms/step - loss: 0.1780 - categorical_accuracy: 0.9204 - val_loss: 0.2661 - val_categorical_accuracy: 0.8900\n",
      "\n",
      "Epoch 00016: val_loss did not improve from 0.22025\n",
      "Epoch 17/20\n",
      "67/67 [==============================] - 33s 490ms/step - loss: 0.2443 - categorical_accuracy: 0.9154 - val_loss: 0.2675 - val_categorical_accuracy: 0.9000\n",
      "\n",
      "Epoch 00017: val_loss did not improve from 0.22025\n",
      "Epoch 18/20\n",
      "67/67 [==============================] - 33s 488ms/step - loss: 0.2215 - categorical_accuracy: 0.9204 - val_loss: 0.4433 - val_categorical_accuracy: 0.8400\n",
      "\n",
      "Epoch 00018: val_loss did not improve from 0.22025\n",
      "\n",
      "Epoch 00018: ReduceLROnPlateau reducing learning rate to 0.125.\n",
      "Epoch 19/20\n",
      "67/67 [==============================] - 32s 475ms/step - loss: 0.1394 - categorical_accuracy: 0.9403 - val_loss: 0.3254 - val_categorical_accuracy: 0.8800\n",
      "\n",
      "Epoch 00019: val_loss did not improve from 0.22025\n",
      "Epoch 20/20\n",
      "67/67 [==============================] - 32s 482ms/step - loss: 0.1423 - categorical_accuracy: 0.9652 - val_loss: 0.2598 - val_categorical_accuracy: 0.9200\n",
      "\n",
      "Epoch 00020: val_loss did not improve from 0.22025\n"
     ]
    },
    {
     "data": {
      "text/plain": [
       "<keras.callbacks.History at 0x7f6e74cccbe0>"
      ]
     },
     "execution_count": 34,
     "metadata": {},
     "output_type": "execute_result"
    }
   ],
   "source": [
    "batch_size = 10\n",
    "num_epochs = 20\n",
    "\n",
    "train_generator = generatorv2(train_path, train_doc, batch_size)\n",
    "val_generator = generatorv2(val_path, val_doc, batch_size)\n",
    "\n",
    "model_name = 'model_init' + '_' + str(curr_dt_time).replace(' ','').replace(':','_') + '/'\n",
    "\n",
    "if not os.path.exists(model_name):\n",
    "    os.mkdir(model_name)\n",
    "        \n",
    "filepath = model_name + 'model-{epoch:05d}-{loss:.5f}-{categorical_accuracy:.5f}-{val_loss:.5f}-{val_categorical_accuracy:.5f}.h5'\n",
    "\n",
    "checkpoint = ModelCheckpoint(filepath, monitor='val_loss', verbose=1, save_best_only=True, save_weights_only=False, mode='auto', period=1)\n",
    "\n",
    "# We have changed the Check point so that the best model gets saved. we are getting some NO SPACE ISSUE in NImbleBox, hence we have to do so\n",
    "LR = ReduceLROnPlateau(monitor='val_loss', factor=0.5, patience=3, cooldown=1, verbose=1)# write the REducelronplateau code here\n",
    "callbacks_list = [checkpoint, LR]\n",
    "\n",
    "\n",
    "\n",
    "if (num_train_sequences%batch_size) == 0:\n",
    "    steps_per_epoch = int(num_train_sequences/batch_size)\n",
    "else:\n",
    "    steps_per_epoch = (num_train_sequences//batch_size) + 1\n",
    "\n",
    "if (num_val_sequences%batch_size) == 0:\n",
    "    validation_steps = int(num_val_sequences/batch_size)\n",
    "else:\n",
    "    validation_steps = (num_val_sequences//batch_size) + 1\n",
    "    \n",
    "    \n",
    "\n",
    "model_mobile_net_gru.fit_generator(train_generator, steps_per_epoch=steps_per_epoch, epochs=num_epochs, verbose=1, \n",
    "                    callbacks=callbacks_list, validation_data=val_generator, \n",
    "                    validation_steps=validation_steps, class_weight=None, workers=1, initial_epoch=0)"
   ]
  },
  {
   "cell_type": "code",
   "execution_count": 35,
   "metadata": {},
   "outputs": [
    {
     "data": {
      "image/png": "[encoded data removed]",
      "text/plain": [
       "<Figure size 432x288 with 1 Axes>"
      ]
     },
     "metadata": {},
     "output_type": "display_data"
    }
   ],
   "source": [
    "#Visualize the models accuracy\n",
    "plt.plot(model_mobile_net_gru.history.history['categorical_accuracy'])\n",
    "plt.plot(model_mobile_net_gru.history.history['val_categorical_accuracy'])\n",
    "plt.title('Model accuracy')\n",
    "plt.ylabel('Accuracy/Loss')\n",
    "plt.xlabel('Epoch')\n",
    "plt.legend(['Train', 'Val'], loc='upper left')\n",
    "plt.show()"
   ]
  },
  {
   "cell_type": "code",
   "execution_count": 36,
   "metadata": {},
   "outputs": [
    {
     "data": {
      "image/png": "[encoded data removed]",
      "text/plain": [
       "<Figure size 432x288 with 1 Axes>"
      ]
     },
     "metadata": {},
     "output_type": "display_data"
    }
   ],
   "source": [
    "plt.plot(model_mobile_net_gru.history.history['loss'])\n",
    "plt.plot(model_mobile_net_gru.history.history['val_loss'])\n",
    "plt.title('Loss')\n",
    "plt.ylabel('Accuracy/Loss')\n",
    "plt.xlabel('Epoch')\n",
    "plt.legend(['Train Loss','Val Loss'], loc='upper left')\n",
    "plt.show()"
   ]
  },
  {
   "cell_type": "code",
   "execution_count": null,
   "metadata": {},
   "outputs": [],
   "source": [
    "#Epoch 00015: val_loss improved from 0.28087 to 0.22025, saving model to model_init_2020-04-1309_18_53.273341/model-00015-0.26339-0.91045-0.22025-0.91000.h5"
   ]
  },
  {
   "cell_type": "markdown",
   "metadata": {},
   "source": [
    "#### Below are some of the learnings:\n",
    "* We have done multiple iterations for Conv3D model.\n",
    "* We tried models with 3 layers (8,16,64) but those models were underfitted.\n",
    "* Models with 4 layers performed good.\n",
    "* We tried to increase dropout rates for over fitted models.\n",
    "* We have used 'adam' and 'adadelta' optimiser and we found 'adadelta' was giving good result.\n",
    "* On local machine, we start with 20-30 batchsize (due to limited GPU resource)\n",
    "* On Nimblebox, we took batchsize 50 and it was handled quite well.\n",
    "* We made two data generators. The modified generator, was handling filled and augmented images.\n",
    "* For CNN+RNN, we used Transfer learning using MobileNet network and the results was great.\n",
    "* We again train the MobileNet on our data.\n",
    "* Our final model would be CNN+RNN."
   ]
  },
  {
   "cell_type": "code",
   "execution_count": null,
   "metadata": {},
   "outputs": [],
   "source": []
  },
  {
   "cell_type": "code",
   "execution_count": null,
   "metadata": {},
   "outputs": [],
   "source": []
  }
 ],
 "metadata": {
  "kernelspec": {
   "display_name": "Python 3",
   "language": "python",
   "name": "python3"
  },
  "language_info": {
   "codemirror_mode": {
    "name": "ipython",
    "version": 3
   },
   "file_extension": ".py",
   "mimetype": "text/x-python",
   "name": "python",
   "nbconvert_exporter": "python",
   "pygments_lexer": "ipython3",
   "version": "3.7.3"
  }
 },
 "nbformat": 4,
 "nbformat_minor": 4
}
